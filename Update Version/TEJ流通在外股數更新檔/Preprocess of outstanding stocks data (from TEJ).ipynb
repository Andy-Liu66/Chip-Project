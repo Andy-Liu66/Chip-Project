{
 "cells": [
  {
   "cell_type": "code",
   "execution_count": 1,
   "metadata": {},
   "outputs": [],
   "source": [
    "import pandas as pd\n",
    "import os\n",
    "from datetime import datetime"
   ]
  },
  {
   "cell_type": "code",
   "execution_count": 2,
   "metadata": {
    "scrolled": true
   },
   "outputs": [],
   "source": [
    "data = pd.read_csv('Outstanding stocks.csv')\n",
    "\n",
    "# 將string轉成float\n",
    "def transform_to_float(x):\n",
    "    try:\n",
    "        return float(x.replace(',', ''))\n",
    "    except:\n",
    "        return x\n",
    "\n",
    "data = data.applymap(lambda x: transform_to_float(x))\n",
    "\n",
    "# 轉換單位\n",
    "# 「流通在外股數(百萬股)」要轉成張數，「董監持股數」已經是張數所以不必更改\n",
    "data['流通在外股數(百萬股)'] = data['流通在外股數(百萬股)'] * 1000000 / 1000\n",
    "\n",
    "# 重新命名欄位名稱\n",
    "data.rename(columns={\n",
    "    '證券代碼': '股票代號',\n",
    "    '年月日': 'Date',\n",
    "    '流通在外股數(百萬股)': '流通在外張數',\n",
    "    '董監持股數': '董監持股張數'\n",
    "}, inplace=True)\n",
    "\n",
    "# 將股票代號萃取出代碼部分\n",
    "data['股票代號'] = data['股票代號'].apply(lambda x: x.split(' ')[0])\n",
    "\n",
    "# 計算淨流通在外張數\n",
    "data['淨流通在外張數'] = data['流通在外張數'] - data['董監持股張數']\n",
    "\n",
    "# 清掉空缺值，否則執行下面轉換日期會有問題\n",
    "data = data[data.Date.isna() == False]\n",
    "\n",
    "# 轉換日期格式\n",
    "data.Date = data.Date.apply(\n",
    "    lambda x: datetime.strptime(x, '%m/%d/%Y').strftime('%Y%m%d')\n",
    ")\n",
    "\n",
    "# 重新整理順序\n",
    "data = data[['Date', '股票代號', '上市別', '流通在外張數', '董監持股張數', '淨流通在外張數']]"
   ]
  },
  {
   "cell_type": "code",
   "execution_count": 3,
   "metadata": {
    "scrolled": true
   },
   "outputs": [],
   "source": [
    "os.chdir(\"..\")\n",
    "data.to_csv('Outstanding_stocks.csv', index=False)"
   ]
  }
 ],
 "metadata": {
  "kernelspec": {
   "display_name": "Python 3",
   "language": "python",
   "name": "python3"
  },
  "language_info": {
   "codemirror_mode": {
    "name": "ipython",
    "version": 3
   },
   "file_extension": ".py",
   "mimetype": "text/x-python",
   "name": "python",
   "nbconvert_exporter": "python",
   "pygments_lexer": "ipython3",
   "version": "3.6.3"
  }
 },
 "nbformat": 4,
 "nbformat_minor": 2
}
