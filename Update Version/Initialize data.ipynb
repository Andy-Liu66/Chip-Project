{
 "cells": [
  {
   "cell_type": "code",
   "execution_count": 1,
   "metadata": {},
   "outputs": [],
   "source": [
    "import pandas as pd\n",
    "from datetime import datetime, timedelta\n",
    "import time\n",
    "from Exchange import Exchange_Institution, Exchange_Margin, Exchange_Borrow"
   ]
  },
  {
   "cell_type": "markdown",
   "metadata": {},
   "source": [
    "# 設定欲爬取日期區間"
   ]
  },
  {
   "cell_type": "code",
   "execution_count": 2,
   "metadata": {},
   "outputs": [],
   "source": [
    "start_date = datetime(2019, 1, 1)\n",
    "end_date = datetime(2019, 9, 20)\n",
    "step = timedelta(days = 1)\n",
    "\n",
    "#創造日期清單\n",
    "date_collection = []\n",
    "while start_date <= end_date:\n",
    "    date_collection.append(start_date.strftime('%Y%m%d'))\n",
    "    start_date += step"
   ]
  },
  {
   "cell_type": "markdown",
   "metadata": {},
   "source": [
    "# 爬取三大法人買賣超"
   ]
  },
  {
   "cell_type": "code",
   "execution_count": 3,
   "metadata": {
    "scrolled": true
   },
   "outputs": [],
   "source": [
    "institution_data = pd.DataFrame([])\n",
    "error_date = []\n",
    "\n",
    "for date in date_collection:\n",
    "    temp_data = pd.DataFrame()\n",
    "    try:\n",
    "        temp_data = Exchange_Institution(date).get_formatted_data()\n",
    "    # 捕捉(繞過)未開市的情況\n",
    "    except AssertionError:\n",
    "        pass\n",
    "    except:\n",
    "        error_date.append(date)\n",
    "    \n",
    "    institution_data = pd.concat([institution_data, temp_data])\n",
    "    time.sleep(2)\n",
    "    print('{} finisehed'.format(date))\n",
    "institution_data.to_csv('Exchange_Institution.csv', index=False)"
   ]
  },
  {
   "cell_type": "code",
   "execution_count": 4,
   "metadata": {},
   "outputs": [],
   "source": [
    "print(error_date)"
   ]
  },
  {
   "cell_type": "code",
   "execution_count": 5,
   "metadata": {},
   "outputs": [],
   "source": [
    "time.sleep(60)"
   ]
  },
  {
   "cell_type": "markdown",
   "metadata": {},
   "source": [
    "# 爬取融資融券"
   ]
  },
  {
   "cell_type": "code",
   "execution_count": 6,
   "metadata": {
    "scrolled": true
   },
   "outputs": [],
   "source": [
    "margin_data = pd.DataFrame([])\n",
    "error_date = []\n",
    "\n",
    "for date in date_collection:\n",
    "    temp_data = pd.DataFrame()\n",
    "    try:\n",
    "        temp_data = Exchange_Margin(date).get_formatted_data()\n",
    "    # 捕捉(繞過)未開市的情況\n",
    "    except AssertionError:\n",
    "        pass\n",
    "    except:\n",
    "        error_date.append(date)\n",
    "    \n",
    "    margin_data = pd.concat([margin_data, temp_data])\n",
    "    time.sleep(2)\n",
    "    print('{} finisehed'.format(date))\n",
    "margin_data.to_csv('Exchange_Margin.csv', index=False)"
   ]
  },
  {
   "cell_type": "code",
   "execution_count": 7,
   "metadata": {},
   "outputs": [],
   "source": [
    "print(error_date)"
   ]
  },
  {
   "cell_type": "code",
   "execution_count": 8,
   "metadata": {},
   "outputs": [],
   "source": [
    "time.sleep(60)"
   ]
  },
  {
   "cell_type": "markdown",
   "metadata": {},
   "source": [
    "# 爬取借券"
   ]
  },
  {
   "cell_type": "code",
   "execution_count": 9,
   "metadata": {
    "scrolled": true
   },
   "outputs": [],
   "source": [
    "borrow_data = pd.DataFrame([])\n",
    "error_date = []\n",
    "\n",
    "for date in date_collection:\n",
    "    temp_data = pd.DataFrame()\n",
    "    try:\n",
    "        temp_data = Exchange_Borrow(date).get_formatted_data()\n",
    "    # 捕捉(繞過)未開市的情況\n",
    "    except AssertionError:\n",
    "        pass\n",
    "    except:\n",
    "        error_date.append(date)\n",
    "    \n",
    "    borrow_data = pd.concat([borrow_data, temp_data])\n",
    "    time.sleep(2)\n",
    "    print('{} finisehed'.format(date))\n",
    "borrow_data.to_csv('Exchange_Borrow.csv', index=False)"
   ]
  },
  {
   "cell_type": "code",
   "execution_count": 10,
   "metadata": {},
   "outputs": [],
   "source": [
    "print(error_date)"
   ]
  }
 ],
 "metadata": {
  "kernelspec": {
   "display_name": "Python 3",
   "language": "python",
   "name": "python3"
  },
  "language_info": {
   "codemirror_mode": {
    "name": "ipython",
    "version": 3
   },
   "file_extension": ".py",
   "mimetype": "text/x-python",
   "name": "python",
   "nbconvert_exporter": "python",
   "pygments_lexer": "ipython3",
   "version": "3.6.3"
  }
 },
 "nbformat": 4,
 "nbformat_minor": 2
}
