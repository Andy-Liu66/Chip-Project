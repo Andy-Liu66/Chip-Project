{
 "cells": [
  {
   "cell_type": "code",
   "execution_count": 1,
   "metadata": {},
   "outputs": [],
   "source": [
    "import pandas as pd\n",
    "import numpy as np\n",
    "from datetime import datetime"
   ]
  },
  {
   "cell_type": "code",
   "execution_count": 2,
   "metadata": {},
   "outputs": [],
   "source": [
    "data = pd.read_csv('Cumulative_data.csv', low_memory=False)\n",
    "outstanding_stocks = pd.read_csv('Outstanding_stocks.csv')"
   ]
  },
  {
   "cell_type": "code",
   "execution_count": 3,
   "metadata": {},
   "outputs": [],
   "source": [
    "stock_list = outstanding_stocks[outstanding_stocks['上市別'] == 'TSE']\n",
    "stock_list = stock_list.copy()\n",
    "stock_list['股票代號'] = stock_list['股票代號'].apply(lambda x: str(x))\n",
    "\n",
    "avaliable_date_set = list(data['Date'].unique())\n",
    "avaliable_date_set.sort()"
   ]
  },
  {
   "cell_type": "code",
   "execution_count": 4,
   "metadata": {},
   "outputs": [],
   "source": [
    "# 確保資料最少有60天\n",
    "calculation_range = avaliable_date_set[60:]"
   ]
  },
  {
   "cell_type": "code",
   "execution_count": 5,
   "metadata": {
    "scrolled": true
   },
   "outputs": [],
   "source": [
    "collection = pd.DataFrame()\n",
    "top_number = 30\n",
    "\n",
    "for calculation_date in calculation_range:\n",
    "    end_index = avaliable_date_set.index(calculation_date)\n",
    "    target_date_set = set(avaliable_date_set[end_index - 59: end_index + 1])\n",
    "    \n",
    "    indicator_result = pd.DataFrame()\n",
    "    # inner for loop\n",
    "    for i in range(len(stock_list)):\n",
    "        current_code = stock_list.iloc[i]['股票代號']\n",
    "        current_company_name = stock_list.iloc[i]['股票名稱']\n",
    "\n",
    "        current_data = data[data['股票代號'] == current_code]\n",
    "        current_data = current_data[current_data.Date.isin(target_date_set)]\n",
    "        current_outstanding_stocks = outstanding_stocks[\n",
    "            outstanding_stocks['股票代號'] == int(current_code)\n",
    "        ]['淨流通在外張數'].values[0]\n",
    "\n",
    "        assert len(current_data) <= 61, '資料重覆請檢查，否則指標將失真！'\n",
    "\n",
    "        if len(current_data) < 60:\n",
    "            missing_date = set(target_date_set).difference(set(current_data.Date))\n",
    "            supplementary_data = pd.DataFrame(\n",
    "                0, index=range(len(missing_date)), columns=current_data.columns\n",
    "            )\n",
    "            supplementary_data['Date'] = missing_date\n",
    "            current_data = pd.concat([current_data, supplementary_data])\n",
    "\n",
    "        current_data.fillna(0, inplace=True)\n",
    "        current_data.sort_values('Date', inplace=True)\n",
    "\n",
    "        current_data[\"當日指標餘額\"] = (\n",
    "            current_data['外陸資買賣超股數(不含外資自營商)'] +\n",
    "            current_data['投信買賣超股數'] -\n",
    "            current_data['借券張數'] - \n",
    "            current_data['融資張數'] + \n",
    "            current_data['融券張數']\n",
    "        )\n",
    "\n",
    "        for num in [5, 10, 20, 60]:\n",
    "            column_name = '近{}日指標比例'.format(num)\n",
    "            current_data[column_name] = list(map(\n",
    "                lambda x: round(x, 2),\n",
    "                current_data['當日指標餘額'].rolling(num).sum() / current_outstanding_stocks * 100\n",
    "            ))\n",
    "\n",
    "        temp_result = current_data[[\n",
    "            'Date', '股票代號',\n",
    "            '外陸資買賣超股數(不含外資自營商)', '投信買賣超股數', '借券張數', '融資張數', '融券張數',\n",
    "            '當日指標餘額', '近5日指標比例', '近10日指標比例', '近20日指標比例', '近60日指標比例'\n",
    "        ]]\n",
    "\n",
    "        temp_result = pd.DataFrame(temp_result.iloc[-1, ]).T\n",
    "        temp_result['股票代號'] = current_code\n",
    "        temp_result.insert(2, '股票名稱', current_company_name)\n",
    "        indicator_result = pd.concat([indicator_result, temp_result])\n",
    "\n",
    "    indicator_result = indicator_result.rename(columns={\n",
    "        '外陸資買賣超股數(不含外資自營商)': '外陸資買賣超張數',\n",
    "        '投信買賣超股數': '投信買賣超張數'\n",
    "    })\n",
    "    \n",
    "    # 建立各排序方式(大致小)前30名名單\n",
    "    sort_by_five = indicator_result.sort_values(\"近5日指標比例\", ascending=False).iloc[\n",
    "        :top_number, \n",
    "    ]\n",
    "    sort_by_five.index = range(1, top_number+1)\n",
    "\n",
    "    sort_by_twenty = indicator_result.sort_values(\"近20日指標比例\", ascending = False).iloc[\n",
    "        :top_number, \n",
    "    ]\n",
    "    sort_by_twenty.index = range(1, top_number+1)\n",
    "\n",
    "    sort_by_sixty = indicator_result.sort_values(\"近60日指標比例\", ascending = False).iloc[\n",
    "        :top_number, \n",
    "    ]\n",
    "    sort_by_sixty.index = range(1, top_number+1)\n",
    "    \n",
    "    # 將符合條件者合併起來\n",
    "    qualified_companies = pd.concat([sort_by_five, sort_by_twenty, sort_by_sixty])\n",
    "    \n",
    "    qualified_companies.drop_duplicates(['Date', '股票代號'], inplace=True)\n",
    "\n",
    "    qualified_companies['Date'] = qualified_companies['Date'].apply(\n",
    "        lambda x: datetime.strptime(str(x), '%Y%m%d')\n",
    "    )\n",
    "    qualified_companies.rename(columns={'Date': '日期'}, inplace=True)\n",
    "    \n",
    "    collection = pd.concat([collection, qualified_companies])\n",
    "    \n",
    "    print(calculation_date)"
   ]
  },
  {
   "cell_type": "code",
   "execution_count": 6,
   "metadata": {},
   "outputs": [],
   "source": [
    "collection.to_csv('Exchange_indicator_collection.csv', index=False)"
   ]
  }
 ],
 "metadata": {
  "kernelspec": {
   "display_name": "Python 3",
   "language": "python",
   "name": "python3"
  },
  "language_info": {
   "codemirror_mode": {
    "name": "ipython",
    "version": 3
   },
   "file_extension": ".py",
   "mimetype": "text/x-python",
   "name": "python",
   "nbconvert_exporter": "python",
   "pygments_lexer": "ipython3",
   "version": "3.6.3"
  }
 },
 "nbformat": 4,
 "nbformat_minor": 2
}
