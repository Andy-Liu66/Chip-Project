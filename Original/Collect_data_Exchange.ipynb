{
 "cells": [
  {
   "cell_type": "markdown",
   "metadata": {},
   "source": [
    "# Collect \"Exchange\" data\n",
    "爬取 2018/01/01 至 2018/05/16的資料 (共87個交易日)"
   ]
  },
  {
   "cell_type": "code",
   "execution_count": null,
   "metadata": {
    "collapsed": true
   },
   "outputs": [],
   "source": [
    "from datetime import datetime, timedelta\n",
    "import pandas as pd\n",
    "import time"
   ]
  },
  {
   "cell_type": "markdown",
   "metadata": {},
   "source": [
    "**建立欲爬取日期的清單：**"
   ]
  },
  {
   "cell_type": "code",
   "execution_count": 19,
   "metadata": {
    "collapsed": true
   },
   "outputs": [],
   "source": [
    "start = datetime.datetime(2018, 1, 1)\n",
    "end = datetime.datetime(2018, 5, 16)\n",
    "step = datetime.timedelta(days = 1)\n",
    "\n",
    "#創造日期清單\n",
    "date_string = []\n",
    "while start <= end:\n",
    "    date_string.append(start.strftime('%Y-%m-%d'))\n",
    "    start += step\n",
    "\n",
    "#定義函式將清單的datetime object轉成數字，才能pass進爬蟲裡\n",
    "def date_string_to_number(data):\n",
    "    temp = pd.DataFrame(str.split(data, \"-\")).iloc[:, 0].apply(int)\n",
    "    result = temp[0] * 10000 + temp[1] * 100 + temp[2]\n",
    "    return(result)\n",
    "\n",
    "#進行日期格式轉換\n",
    "date_string = pd.DataFrame(date_string).iloc[:, 0].apply(date_string_to_number)"
   ]
  },
  {
   "cell_type": "code",
   "execution_count": null,
   "metadata": {
    "collapsed": true
   },
   "outputs": [],
   "source": [
    "from Crawler import * #使用原先未使用OOP的版本(沒有包含整理功能因此以下需要自行整理)"
   ]
  },
  {
   "cell_type": "markdown",
   "metadata": {},
   "source": [
    "## 爬資料"
   ]
  },
  {
   "cell_type": "markdown",
   "metadata": {},
   "source": [
    "**爬三大法人買賣超**"
   ]
  },
  {
   "cell_type": "code",
   "execution_count": 99,
   "metadata": {
    "collapsed": true
   },
   "outputs": [],
   "source": [
    "# main_force = pd.DataFrame([])\n",
    "# for i in date_string:\n",
    "#     temp = get_main_force(\"ALLBUT0999\", i)\n",
    "#     main_force = pd.concat([main_force, temp], )\n",
    "#     print(\"Date : {} finished.\".format(i))\n",
    "#     time.sleep(10)\n",
    "\n",
    "# main_force.to_excel(\"2018_三大法人買賣超.xlsx\")"
   ]
  },
  {
   "cell_type": "markdown",
   "metadata": {},
   "source": [
    "**爬融資融券**"
   ]
  },
  {
   "cell_type": "code",
   "execution_count": 22,
   "metadata": {
    "collapsed": true,
    "scrolled": true
   },
   "outputs": [],
   "source": [
    "# margin_purchase_short_sell = pd.DataFrame([])\n",
    "# for i in date_string:\n",
    "#     temp = get_margin_purchase_short_sell(\"ALL\", i)\n",
    "#     margin_purchase_short_sell = pd.concat([margin_purchase_short_sell, temp], )\n",
    "#     print(\"Date : {} finished.\".format(i))\n",
    "#     time.sleep(5)\n",
    "    \n",
    "# margin_purchase_short_sell.to_excel(\"2018_融資融券.xlsx\")"
   ]
  },
  {
   "cell_type": "markdown",
   "metadata": {},
   "source": [
    "**爬借券**\n",
    "\n",
    "*(此部分爬下來前幾欄為融券後幾欄才為借券，因此後面裡只要選取借券部分)*"
   ]
  },
  {
   "cell_type": "code",
   "execution_count": 43,
   "metadata": {
    "collapsed": true
   },
   "outputs": [],
   "source": [
    "# borrow = pd.DataFrame([])\n",
    "# for i in date_string:\n",
    "#     temp = get_borrow(\"ALL\", i)\n",
    "#     borrow = pd.concat([borrow, temp], )\n",
    "#     print(\"Date : {} finished.\".format(i))\n",
    "#     time.sleep(5)\n",
    "\n",
    "# borrow.to_excel(\"2018_借券.xlsx\")"
   ]
  },
  {
   "cell_type": "markdown",
   "metadata": {},
   "source": [
    "## 整理資料"
   ]
  },
  {
   "cell_type": "markdown",
   "metadata": {},
   "source": [
    "**三大法人買賣超**"
   ]
  },
  {
   "cell_type": "code",
   "execution_count": 214,
   "metadata": {},
   "outputs": [
    {
     "data": {
      "text/html": [
       "<div>\n",
       "<style scoped>\n",
       "    .dataframe tbody tr th:only-of-type {\n",
       "        vertical-align: middle;\n",
       "    }\n",
       "\n",
       "    .dataframe tbody tr th {\n",
       "        vertical-align: top;\n",
       "    }\n",
       "\n",
       "    .dataframe thead th {\n",
       "        text-align: right;\n",
       "    }\n",
       "</style>\n",
       "<table border=\"1\" class=\"dataframe\">\n",
       "  <thead>\n",
       "    <tr style=\"text-align: right;\">\n",
       "      <th></th>\n",
       "      <th>日期</th>\n",
       "      <th>股票代號</th>\n",
       "      <th>股票名稱</th>\n",
       "      <th>外陸資買賣超股數(不含外資自營商)</th>\n",
       "      <th>投信買賣超股數</th>\n",
       "    </tr>\n",
       "  </thead>\n",
       "  <tbody>\n",
       "    <tr>\n",
       "      <th>1</th>\n",
       "      <td>2018-01-02</td>\n",
       "      <td>2603</td>\n",
       "      <td>長榮</td>\n",
       "      <td>7397.440</td>\n",
       "      <td>4190.0</td>\n",
       "    </tr>\n",
       "    <tr>\n",
       "      <th>3</th>\n",
       "      <td>2018-01-02</td>\n",
       "      <td>2330</td>\n",
       "      <td>台積電</td>\n",
       "      <td>9607.424</td>\n",
       "      <td>514.0</td>\n",
       "    </tr>\n",
       "    <tr>\n",
       "      <th>4</th>\n",
       "      <td>2018-01-02</td>\n",
       "      <td>2014</td>\n",
       "      <td>中鴻</td>\n",
       "      <td>755.000</td>\n",
       "      <td>864.0</td>\n",
       "    </tr>\n",
       "    <tr>\n",
       "      <th>5</th>\n",
       "      <td>2018-01-02</td>\n",
       "      <td>3481</td>\n",
       "      <td>群創</td>\n",
       "      <td>6269.728</td>\n",
       "      <td>0.0</td>\n",
       "    </tr>\n",
       "    <tr>\n",
       "      <th>6</th>\n",
       "      <td>2018-01-02</td>\n",
       "      <td>6120</td>\n",
       "      <td>達運</td>\n",
       "      <td>5271.901</td>\n",
       "      <td>0.0</td>\n",
       "    </tr>\n",
       "  </tbody>\n",
       "</table>\n",
       "</div>"
      ],
      "text/plain": [
       "          日期  股票代號            股票名稱  外陸資買賣超股數(不含外資自營商)  投信買賣超股數\n",
       "1 2018-01-02  2603  長榮                       7397.440   4190.0\n",
       "3 2018-01-02  2330   台積電                     9607.424    514.0\n",
       "4 2018-01-02  2014  中鴻                        755.000    864.0\n",
       "5 2018-01-02  3481  群創                       6269.728      0.0\n",
       "6 2018-01-02  6120  達運                       5271.901      0.0"
      ]
     },
     "execution_count": 214,
     "metadata": {},
     "output_type": "execute_result"
    }
   ],
   "source": [
    "main_force = pd.read_excel(\"2018_三大法人買賣超.xlsx\")\n",
    "main_force = main_force[main_force.證券代號.apply(lambda x : len(x) == 4)]\n",
    "main_force = main_force[[\"日期\", '證券代號', '證券名稱', '外陸資買賣超股數(不含外資自營商)', '投信買賣超股數']]\n",
    "main_force.columns = [\"日期\", '股票代號', '股票名稱', '外陸資買賣超股數(不含外資自營商)', '投信買賣超股數']\n",
    "main_force.iloc[:, [3, 4]] = main_force.iloc[:, [3, 4]].applymap(lambda x : float(x.replace(\",\", \"\"))) / 1000\n",
    "main_force.head()"
   ]
  },
  {
   "cell_type": "markdown",
   "metadata": {},
   "source": [
    "**融資融券**"
   ]
  },
  {
   "cell_type": "code",
   "execution_count": 215,
   "metadata": {},
   "outputs": [
    {
     "data": {
      "text/html": [
       "<div>\n",
       "<style scoped>\n",
       "    .dataframe tbody tr th:only-of-type {\n",
       "        vertical-align: middle;\n",
       "    }\n",
       "\n",
       "    .dataframe tbody tr th {\n",
       "        vertical-align: top;\n",
       "    }\n",
       "\n",
       "    .dataframe thead th {\n",
       "        text-align: right;\n",
       "    }\n",
       "</style>\n",
       "<table border=\"1\" class=\"dataframe\">\n",
       "  <thead>\n",
       "    <tr style=\"text-align: right;\">\n",
       "      <th></th>\n",
       "      <th>日期</th>\n",
       "      <th>股票代號</th>\n",
       "      <th>股票名稱</th>\n",
       "      <th>融資張數</th>\n",
       "      <th>融券張數</th>\n",
       "    </tr>\n",
       "  </thead>\n",
       "  <tbody>\n",
       "    <tr>\n",
       "      <th>0</th>\n",
       "      <td>2018-01-02</td>\n",
       "      <td>0050</td>\n",
       "      <td>元大台灣50</td>\n",
       "      <td>-170.0</td>\n",
       "      <td>18.0</td>\n",
       "    </tr>\n",
       "    <tr>\n",
       "      <th>1</th>\n",
       "      <td>2018-01-02</td>\n",
       "      <td>0051</td>\n",
       "      <td>元大中型100</td>\n",
       "      <td>0.0</td>\n",
       "      <td>0.0</td>\n",
       "    </tr>\n",
       "    <tr>\n",
       "      <th>2</th>\n",
       "      <td>2018-01-02</td>\n",
       "      <td>0052</td>\n",
       "      <td>富邦科技</td>\n",
       "      <td>0.0</td>\n",
       "      <td>0.0</td>\n",
       "    </tr>\n",
       "    <tr>\n",
       "      <th>3</th>\n",
       "      <td>2018-01-02</td>\n",
       "      <td>0053</td>\n",
       "      <td>元大電子</td>\n",
       "      <td>0.0</td>\n",
       "      <td>0.0</td>\n",
       "    </tr>\n",
       "    <tr>\n",
       "      <th>4</th>\n",
       "      <td>2018-01-02</td>\n",
       "      <td>0054</td>\n",
       "      <td>元大台商50</td>\n",
       "      <td>0.0</td>\n",
       "      <td>0.0</td>\n",
       "    </tr>\n",
       "  </tbody>\n",
       "</table>\n",
       "</div>"
      ],
      "text/plain": [
       "          日期  股票代號     股票名稱   融資張數  融券張數\n",
       "0 2018-01-02  0050   元大台灣50 -170.0  18.0\n",
       "1 2018-01-02  0051  元大中型100    0.0   0.0\n",
       "2 2018-01-02  0052     富邦科技    0.0   0.0\n",
       "3 2018-01-02  0053     元大電子    0.0   0.0\n",
       "4 2018-01-02  0054   元大台商50    0.0   0.0"
      ]
     },
     "execution_count": 215,
     "metadata": {},
     "output_type": "execute_result"
    }
   ],
   "source": [
    "margin_purchase_short_sell = pd.read_excel(\"2018_融資融券.xlsx\")\n",
    "margin_purchase_short_sell = margin_purchase_short_sell[margin_purchase_short_sell.股票代號.apply(lambda x : len(x) == 4)]\n",
    "margin_purchase_short_sell.iloc[:, [5, 6, 11, 12]] = margin_purchase_short_sell.iloc[:, [5, 6, 11, 12]].applymap(lambda x : float(x.replace(\",\", \"\")))\n",
    "margin_purchase_short_sell[\"融資張數\"] = margin_purchase_short_sell.iloc[:, 6] - margin_purchase_short_sell.iloc[:, 5]\n",
    "margin_purchase_short_sell[\"融券張數\"] = margin_purchase_short_sell.iloc[:, 12] - margin_purchase_short_sell.iloc[:, 11]\n",
    "margin_purchase_short_sell = margin_purchase_short_sell[[\"日期\", '股票代號', '股票名稱', \"融資張數\", \"融券張數\"]]\n",
    "\n",
    "margin_purchase_short_sell.head()"
   ]
  },
  {
   "cell_type": "markdown",
   "metadata": {},
   "source": [
    "**借券**"
   ]
  },
  {
   "cell_type": "code",
   "execution_count": 216,
   "metadata": {},
   "outputs": [
    {
     "data": {
      "text/html": [
       "<div>\n",
       "<style scoped>\n",
       "    .dataframe tbody tr th:only-of-type {\n",
       "        vertical-align: middle;\n",
       "    }\n",
       "\n",
       "    .dataframe tbody tr th {\n",
       "        vertical-align: top;\n",
       "    }\n",
       "\n",
       "    .dataframe thead th {\n",
       "        text-align: right;\n",
       "    }\n",
       "</style>\n",
       "<table border=\"1\" class=\"dataframe\">\n",
       "  <thead>\n",
       "    <tr style=\"text-align: right;\">\n",
       "      <th></th>\n",
       "      <th>日期</th>\n",
       "      <th>股票代號</th>\n",
       "      <th>股票名稱</th>\n",
       "      <th>借券張數</th>\n",
       "    </tr>\n",
       "  </thead>\n",
       "  <tbody>\n",
       "    <tr>\n",
       "      <th>0</th>\n",
       "      <td>2018-01-02</td>\n",
       "      <td>0050</td>\n",
       "      <td>元大台灣50</td>\n",
       "      <td>-112.0</td>\n",
       "    </tr>\n",
       "    <tr>\n",
       "      <th>1</th>\n",
       "      <td>2018-01-02</td>\n",
       "      <td>0051</td>\n",
       "      <td>元大中型100</td>\n",
       "      <td>0.0</td>\n",
       "    </tr>\n",
       "    <tr>\n",
       "      <th>2</th>\n",
       "      <td>2018-01-02</td>\n",
       "      <td>0052</td>\n",
       "      <td>富邦科技</td>\n",
       "      <td>0.0</td>\n",
       "    </tr>\n",
       "    <tr>\n",
       "      <th>3</th>\n",
       "      <td>2018-01-02</td>\n",
       "      <td>0053</td>\n",
       "      <td>元大電子</td>\n",
       "      <td>0.0</td>\n",
       "    </tr>\n",
       "    <tr>\n",
       "      <th>4</th>\n",
       "      <td>2018-01-02</td>\n",
       "      <td>0054</td>\n",
       "      <td>元大台商50</td>\n",
       "      <td>0.0</td>\n",
       "    </tr>\n",
       "  </tbody>\n",
       "</table>\n",
       "</div>"
      ],
      "text/plain": [
       "          日期  股票代號     股票名稱   借券張數\n",
       "0 2018-01-02  0050   元大台灣50 -112.0\n",
       "1 2018-01-02  0051  元大中型100    0.0\n",
       "2 2018-01-02  0052     富邦科技    0.0\n",
       "3 2018-01-02  0053     元大電子    0.0\n",
       "4 2018-01-02  0054   元大台商50    0.0"
      ]
     },
     "execution_count": 216,
     "metadata": {},
     "output_type": "execute_result"
    }
   ],
   "source": [
    "borrow = pd.read_excel(\"2018_借券.xlsx\")\n",
    "borrow = borrow[borrow.股票代號.apply(lambda x : len(str(x)) == 4)]\n",
    "borrow.iloc[:, [8, 12]] = borrow.iloc[:, [8, 12]].applymap(lambda x : float(x.replace(\",\", \"\")))\n",
    "borrow[\"借券張數\"] = (borrow.iloc[:, 12] - borrow.iloc[:, 8]) / 1000\n",
    "borrow = borrow[[\"日期\", '股票代號', '股票名稱', \"借券張數\"]]\n",
    "\n",
    "borrow.head()"
   ]
  },
  {
   "cell_type": "markdown",
   "metadata": {},
   "source": [
    "**淨流通在外張數**\n",
    "\n",
    "*(此資料依據 2018/5/15 日TEJ資料)*"
   ]
  },
  {
   "cell_type": "code",
   "execution_count": 477,
   "metadata": {},
   "outputs": [
    {
     "data": {
      "text/html": [
       "<div>\n",
       "<style scoped>\n",
       "    .dataframe tbody tr th:only-of-type {\n",
       "        vertical-align: middle;\n",
       "    }\n",
       "\n",
       "    .dataframe tbody tr th {\n",
       "        vertical-align: top;\n",
       "    }\n",
       "\n",
       "    .dataframe thead th {\n",
       "        text-align: right;\n",
       "    }\n",
       "</style>\n",
       "<table border=\"1\" class=\"dataframe\">\n",
       "  <thead>\n",
       "    <tr style=\"text-align: right;\">\n",
       "      <th></th>\n",
       "      <th>股票代號</th>\n",
       "      <th>股票名稱</th>\n",
       "      <th>淨流通在外張數</th>\n",
       "    </tr>\n",
       "  </thead>\n",
       "  <tbody>\n",
       "    <tr>\n",
       "      <th>0</th>\n",
       "      <td>1101</td>\n",
       "      <td>台泥</td>\n",
       "      <td>3631883</td>\n",
       "    </tr>\n",
       "    <tr>\n",
       "      <th>1</th>\n",
       "      <td>1102</td>\n",
       "      <td>亞泥</td>\n",
       "      <td>2385778</td>\n",
       "    </tr>\n",
       "    <tr>\n",
       "      <th>2</th>\n",
       "      <td>1103</td>\n",
       "      <td>嘉泥</td>\n",
       "      <td>636994</td>\n",
       "    </tr>\n",
       "    <tr>\n",
       "      <th>3</th>\n",
       "      <td>1104</td>\n",
       "      <td>環泥</td>\n",
       "      <td>495284</td>\n",
       "    </tr>\n",
       "    <tr>\n",
       "      <th>4</th>\n",
       "      <td>1108</td>\n",
       "      <td>幸福</td>\n",
       "      <td>367418</td>\n",
       "    </tr>\n",
       "  </tbody>\n",
       "</table>\n",
       "</div>"
      ],
      "text/plain": [
       "   股票代號 股票名稱  淨流通在外張數\n",
       "0  1101   台泥  3631883\n",
       "1  1102   亞泥  2385778\n",
       "2  1103   嘉泥   636994\n",
       "3  1104   環泥   495284\n",
       "4  1108   幸福   367418"
      ]
     },
     "execution_count": 477,
     "metadata": {},
     "output_type": "execute_result"
    }
   ],
   "source": [
    "# outstanding_stock = pd.read_excel(\"2018_董監持股_流通張數.xlsx\")\n",
    "# outstanding_stock[\"淨流通在外張數\"] = outstanding_stock[\"流通在外張數\"] - outstanding_stock[\"董監持張數\"]\n",
    "# outstanding_stock.股票名稱 = outstanding_stock.股票名稱.apply(lambda x : x.split(\" \")[1])\n",
    "# outstanding_stock = outstanding_stock[[\"股票代號\", \"股票名稱\", \"淨流通在外張數\"]]\n",
    "# outstanding_stock.dropna(inplace = True)\n",
    "# outstanding_stock.to_excel(\"2018_董監持股_流通張數.xlsx\")\n",
    "\n",
    "outstanding_stock = pd.read_excel(\"2018_董監持股_流通張數.xlsx\")\n",
    "outstanding_stock.head()"
   ]
  },
  {
   "cell_type": "markdown",
   "metadata": {},
   "source": [
    "**合併全部**"
   ]
  },
  {
   "cell_type": "code",
   "execution_count": 274,
   "metadata": {
    "collapsed": true
   },
   "outputs": [],
   "source": [
    "result = main_force.merge(margin_purchase_short_sell, on = [\"日期\", \"股票代號\"], how = \"outer\").merge(borrow, on = [\"日期\", \"股票代號\"], how = \"outer\")\n",
    "result = result[['日期', '股票代號', '股票名稱', '外陸資買賣超股數(不含外資自營商)', '投信買賣超股數', '借券張數', '融資張數', '融券張數']]\n",
    "result.to_excel(\"2018_temp_result.xlsx\")"
   ]
  }
 ],
 "metadata": {
  "kernelspec": {
   "display_name": "Python 3",
   "language": "python",
   "name": "python3"
  },
  "language_info": {
   "codemirror_mode": {
    "name": "ipython",
    "version": 3
   },
   "file_extension": ".py",
   "mimetype": "text/x-python",
   "name": "python",
   "nbconvert_exporter": "python",
   "pygments_lexer": "ipython3",
   "version": "3.6.3"
  }
 },
 "nbformat": 4,
 "nbformat_minor": 2
}
