{
 "cells": [
  {
   "cell_type": "markdown",
   "metadata": {},
   "source": [
    "# Collect \"OTC\" data\n",
    "爬取 2018/01/15 至 2018/06/02 的資料(共90個交易日)"
   ]
  },
  {
   "cell_type": "code",
   "execution_count": 1,
   "metadata": {
    "collapsed": true
   },
   "outputs": [],
   "source": [
    "from datetime import datetime, timedelta\n",
    "import pandas as pd\n",
    "import time"
   ]
  },
  {
   "cell_type": "markdown",
   "metadata": {},
   "source": [
    "**建立欲爬取日期的清單：**"
   ]
  },
  {
   "cell_type": "code",
   "execution_count": 2,
   "metadata": {
    "collapsed": true
   },
   "outputs": [],
   "source": [
    "start = datetime(2018, 1, 15) #1/15後main_force網頁改版成目前設定，因欄位改變所以1/15之前之資料不抓\n",
    "end = datetime(2018, 6, 2)\n",
    "step = timedelta(days = 1)\n",
    "\n",
    "#創造日期清單\n",
    "date_string = []\n",
    "while start <= end:\n",
    "    date_string.append(start.strftime('%Y-%m-%d'))\n",
    "    start += step\n",
    "\n",
    "#定義函式將清單的datetime object轉成數字，才能pass進爬蟲裡\n",
    "def date_string_to_number(data):\n",
    "    temp = pd.DataFrame(str.split(data, \"-\")).iloc[:, 0].apply(int)\n",
    "    result = temp[0] * 10000 + temp[1] * 100 + temp[2]\n",
    "    return(result)\n",
    "\n",
    "#進行日期格式轉換\n",
    "date_string = pd.DataFrame(date_string).iloc[:, 0].apply(date_string_to_number)"
   ]
  },
  {
   "cell_type": "code",
   "execution_count": 3,
   "metadata": {
    "collapsed": true
   },
   "outputs": [],
   "source": [
    "from OTC import * #使用已使用OOP的版本(含有整理功能因此爬下來後無需再另外整理)"
   ]
  },
  {
   "cell_type": "code",
   "execution_count": 4,
   "metadata": {
    "scrolled": true
   },
   "outputs": [
    {
     "name": "stdout",
     "output_type": "stream",
     "text": [
      "20180115 finished!\n",
      "20180116 finished!\n",
      "20180117 finished!\n",
      "20180118 finished!\n",
      "20180119 finished!\n",
      "20180120 finished!\n",
      "20180121 finished!\n",
      "20180122 finished!\n",
      "20180123 finished!\n",
      "20180124 finished!\n",
      "20180125 finished!\n",
      "20180126 finished!\n",
      "20180127 finished!\n",
      "20180128 finished!\n",
      "20180129 finished!\n",
      "20180130 finished!\n",
      "20180131 finished!\n",
      "20180201 finished!\n",
      "20180202 finished!\n",
      "20180203 finished!\n",
      "20180204 finished!\n",
      "20180205 finished!\n",
      "20180206 finished!\n",
      "20180207 finished!\n",
      "20180208 finished!\n",
      "20180209 finished!\n",
      "20180210 finished!\n",
      "20180211 finished!\n",
      "20180212 finished!\n",
      "20180213 finished!\n",
      "20180214 finished!\n",
      "20180215 finished!\n",
      "20180216 finished!\n",
      "20180217 finished!\n",
      "20180218 finished!\n",
      "20180219 finished!\n",
      "20180220 finished!\n",
      "20180221 finished!\n",
      "20180222 finished!\n",
      "20180223 finished!\n",
      "20180224 finished!\n",
      "20180225 finished!\n",
      "20180226 finished!\n",
      "20180227 finished!\n",
      "20180228 finished!\n",
      "20180301 finished!\n",
      "20180302 finished!\n",
      "20180303 finished!\n",
      "20180304 finished!\n",
      "20180305 finished!\n",
      "20180306 finished!\n",
      "20180307 finished!\n",
      "20180308 finished!\n",
      "20180309 finished!\n",
      "20180310 finished!\n",
      "20180311 finished!\n",
      "20180312 finished!\n",
      "20180313 finished!\n",
      "20180314 finished!\n",
      "20180315 finished!\n",
      "20180316 finished!\n",
      "20180317 finished!\n",
      "20180318 finished!\n",
      "20180319 finished!\n",
      "20180320 finished!\n",
      "20180321 finished!\n",
      "20180322 finished!\n",
      "20180323 finished!\n",
      "20180324 finished!\n",
      "20180325 finished!\n",
      "20180326 finished!\n",
      "20180327 finished!\n",
      "20180328 finished!\n",
      "20180329 finished!\n",
      "20180330 finished!\n",
      "20180331 finished!\n",
      "20180401 finished!\n",
      "20180402 finished!\n",
      "20180403 finished!\n",
      "20180404 finished!\n",
      "20180405 finished!\n",
      "20180406 finished!\n",
      "20180407 finished!\n",
      "20180408 finished!\n",
      "20180409 finished!\n",
      "20180410 finished!\n",
      "20180411 finished!\n",
      "20180412 finished!\n",
      "20180413 finished!\n",
      "20180414 finished!\n",
      "20180415 finished!\n",
      "20180416 finished!\n",
      "20180417 finished!\n",
      "20180418 finished!\n",
      "20180419 finished!\n",
      "20180420 finished!\n",
      "20180421 finished!\n",
      "20180422 finished!\n",
      "20180423 finished!\n",
      "20180424 finished!\n",
      "20180425 finished!\n",
      "20180426 finished!\n",
      "20180427 finished!\n",
      "20180428 finished!\n",
      "20180429 finished!\n",
      "20180430 finished!\n",
      "20180501 finished!\n",
      "20180502 finished!\n",
      "20180503 finished!\n",
      "20180504 finished!\n",
      "20180505 finished!\n",
      "20180506 finished!\n",
      "20180507 finished!\n",
      "20180508 finished!\n",
      "20180509 finished!\n",
      "20180510 finished!\n",
      "20180511 finished!\n",
      "20180512 finished!\n",
      "20180513 finished!\n",
      "20180514 finished!\n",
      "20180515 finished!\n",
      "20180516 finished!\n",
      "20180517 finished!\n",
      "20180518 finished!\n",
      "20180519 finished!\n",
      "20180520 finished!\n",
      "20180521 finished!\n",
      "20180522 finished!\n",
      "20180523 finished!\n",
      "20180524 finished!\n",
      "20180525 finished!\n",
      "20180526 finished!\n",
      "20180527 finished!\n",
      "20180528 finished!\n",
      "20180529 finished!\n",
      "20180530 finished!\n",
      "20180531 finished!\n",
      "20180601 finished!\n",
      "20180602 finished!\n"
     ]
    }
   ],
   "source": [
    "result = pd.DataFrame([])\n",
    "for date in date_string:\n",
    "    temp_result = OTC_deal_with_data(date).get_today_data()\n",
    "    \n",
    "    result = pd.concat([result, temp_result])\n",
    "    print(\"{} finished!\".format(date))\n",
    "    time.sleep(5)"
   ]
  },
  {
   "cell_type": "code",
   "execution_count": 5,
   "metadata": {},
   "outputs": [
    {
     "data": {
      "text/plain": [
       "90"
      ]
     },
     "execution_count": 5,
     "metadata": {},
     "output_type": "execute_result"
    }
   ],
   "source": [
    "len(result.日期.unique()) #要等於90，今日為2018/06/02"
   ]
  },
  {
   "cell_type": "code",
   "execution_count": null,
   "metadata": {
    "collapsed": true
   },
   "outputs": [],
   "source": [
    "result.to_csv(\"2018_OTC_temp_result.csv\")"
   ]
  }
 ],
 "metadata": {
  "kernelspec": {
   "display_name": "Python 3",
   "language": "python",
   "name": "python3"
  },
  "language_info": {
   "codemirror_mode": {
    "name": "ipython",
    "version": 3
   },
   "file_extension": ".py",
   "mimetype": "text/x-python",
   "name": "python",
   "nbconvert_exporter": "python",
   "pygments_lexer": "ipython3",
   "version": "3.6.3"
  }
 },
 "nbformat": 4,
 "nbformat_minor": 2
}
